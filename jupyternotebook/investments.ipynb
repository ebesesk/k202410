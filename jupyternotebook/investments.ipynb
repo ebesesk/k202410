{
 "cells": [
  {
   "cell_type": "code",
   "execution_count": null,
   "metadata": {},
   "outputs": [],
   "source": [
    "class TransactionType:\n",
    "    STOCK_BUY = \"STOCK_BUY\"        # 주식 매수\n",
    "    STOCK_SELL = \"STOCK_SELL\"      # 주식 매도\n",
    "    CRYPTO_BUY = \"CRYPTO_BUY\"      # 암호화폐 매수\n",
    "    CRYPTO_SELL = \"CRYPTO_SELL\"    # 암호화폐 매도\n",
    "    EXCHANGE = \"EXCHANGE\"          # 환전\n",
    "    DEPOSIT = \"DEPOSIT\"            # 입금\n",
    "    WITHDRAW = \"WITHDRAW\"          # 출금\n",
    "    DIVIDEND = \"DIVIDEND\"          # 배당금\n",
    "    INTEREST = \"INTEREST\"          # 이자수익\n",
    "    FEE = \"FEE\"                    # 수수료\n",
    "    TAX = \"TAX\"                    # 세금\n",
    "    \n",
    "    '''\n",
    "    각 거래 유형별로 사용되는 필드가 다릅니다:\n",
    "    매매거래: asset_id, quantity, price, amount 사용\n",
    "    환전: currency, exchange_rate, amount, transaction_metadata 사용\n",
    "    입출금: amount, currency 사용\n",
    "    수익/비용: amount, currency 사용\n",
    "    복식부기를위해 모든 거래는 debit_account_id와 credit_account_id를 가집니다.\n",
    "    '''\n",
    "     "
   ]
  },
  {
   "cell_type": "markdown",
   "metadata": {},
   "source": [
    "각 거래 유형별로 사용되는 필드가 다릅니다:\n",
    "매매거래: asset_id, quantity, price, amount 사용\n",
    "환전: currency, exchange_rate, amount, transaction_metadata 사용\n",
    "입출금: amount, currency 사용\n",
    "수익/비용: amount, currency 사용\n",
    "복식부기를 위해 모든 거래는 debit_account_id와 credit_account_id를 가집니다."
   ]
  }
 ],
 "metadata": {
  "language_info": {
   "name": "python"
  }
 },
 "nbformat": 4,
 "nbformat_minor": 2
}
