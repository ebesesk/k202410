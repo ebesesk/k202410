{
 "cells": [
  {
   "cell_type": "code",
   "execution_count": 1,
   "metadata": {},
   "outputs": [
    {
     "name": "stdout",
     "output_type": "stream",
     "text": [
      "                  Open        High         Low       Close     Volume  \\\n",
      "2024-01-16  215.100006  223.490005  212.179993  219.910004  115355000   \n",
      "2024-01-17  214.860001  215.669998  212.009995  215.550003  103164400   \n",
      "2024-01-18  216.880005  217.449997  208.740005  211.880005  108595400   \n",
      "2024-01-19  209.990005  213.190002  207.559998  212.190002  102095800   \n",
      "2024-01-22  212.259995  217.800003  206.270004  208.800003  117952500   \n",
      "...                ...         ...         ...         ...        ...   \n",
      "2025-01-13  383.209991  403.790009  380.070007  403.309998   67580500   \n",
      "2025-01-14  414.339996  422.640015  394.540009  396.359985   84565000   \n",
      "2025-01-15  409.899994  429.799988  405.660004  428.220001   81375500   \n",
      "2025-01-16  423.489990  424.000000  409.130005  413.820007   68335200   \n",
      "2025-01-17  421.500000  439.739990  419.750000  426.500000   94504200   \n",
      "\n",
      "             Adj Close  \n",
      "2024-01-16  219.910004  \n",
      "2024-01-17  215.550003  \n",
      "2024-01-18  211.880005  \n",
      "2024-01-19  212.190002  \n",
      "2024-01-22  208.800003  \n",
      "...                ...  \n",
      "2025-01-13  403.309998  \n",
      "2025-01-14  396.359985  \n",
      "2025-01-15  428.220001  \n",
      "2025-01-16  413.820007  \n",
      "2025-01-17  426.500000  \n",
      "\n",
      "[254 rows x 6 columns]\n"
     ]
    }
   ],
   "source": [
    "import FinanceDataReader as fdr\n",
    "\n",
    "df = fdr.DataReader('TSLA', '2024-01-17')\n",
    "print(df)"
   ]
  },
  {
   "cell_type": "code",
   "execution_count": 5,
   "metadata": {},
   "outputs": [
    {
     "name": "stdout",
     "output_type": "stream",
     "text": [
      "2025-01-08\n"
     ]
    }
   ],
   "source": [
    "import datetime\n",
    "# '2024-01-17' 오늘 날짜 \n",
    "today = datetime.datetime.now().strftime('%Y-%m-%d')\n",
    "# 오늘 날짜 이전 10일 \n",
    "ten_days_ago = (datetime.datetime.now() - datetime.timedelta(days=10)).strftime('%Y-%m-%d')\n",
    "\n",
    "print(ten_days_ago)\n"
   ]
  },
  {
   "cell_type": "code",
   "execution_count": 6,
   "metadata": {},
   "outputs": [
    {
     "name": "stderr",
     "output_type": "stream",
     "text": [
      "100%|██████████| 2732/2732 [00:02<00:00, 931.62it/s] \n",
      "100%|██████████| 316/316 [00:00<00:00, 844.79it/s] "
     ]
    },
    {
     "name": "stdout",
     "output_type": "stream",
     "text": [
      "         Symbol                                               Name  \\\n",
      "2722       CIMN      Chimera Investment 9 00 Senior Notes due 2029   \n",
      "2723       RWTO           Redwood Trust 9 00 Senior Notes Due 2029   \n",
      "2724       AOMN  Angel Oak Mortgage REIT 9.500 Senior Notes due...   \n",
      "2725       CIMO     Chimera Investment 9 250 Senior Notes due 2029   \n",
      "2726   FLG PR U                        Flagstar Financial Pref Shs   \n",
      "2727   NEE PR T                               Nextera Energy Units   \n",
      "2728       SPMA  Sound Point Meridian Capital 8 00 Pref Shs Ser...   \n",
      "2729   AHL PR F  Aspen Insurance Holdings Depositary Shs Repstg...   \n",
      "2730        RCD          Ready Capital 9.00% Senior Notes due 2029   \n",
      "2731  JFR RT WI  Nuveen Floating Rate Income Fund Rights Expiry...   \n",
      "\n",
      "     IndustryCode       Industry  \n",
      "2722     60102040       특수 REITs  \n",
      "2723     60102040       특수 REITs  \n",
      "2724     55101010             은행  \n",
      "2725     60102040       특수 REITs  \n",
      "2726     55102020  투자 관리 및 펀드 운영  \n",
      "2727     59101010        전력 유틸리티  \n",
      "2728     55501030         폐쇄형 펀드  \n",
      "2729     55301050            재보험  \n",
      "2730     60102040       특수 REITs  \n",
      "2731     55501030         폐쇄형 펀드  \n",
      "       Symbol                                               Name IndustryCode  \\\n",
      "306      SCPX                              Scorpius Holdings Inc     56201040   \n",
      "307       SGN                             Signing Day Sports Inc     57201020   \n",
      "308  GLU PR A  Gabelli Global Utility and Income Cumulative P...     55501030   \n",
      "309   PW PR A  Power REIT 7.75% Cumulative Redeemable Perpetu...     60102020   \n",
      "310  RHE PR A  Regional Health Properties 10.875 Cumulative R...     60101010   \n",
      "311    LNFA.U           L F Acquisition Redeemable Units Class A     55601010   \n",
      "312      AMDI                             Amphitrite Digital Inc     53301040   \n",
      "313      ONDR                            Sushi Ginza Onodera Inc                \n",
      "314  OPP PR C  RiverNorth DoubleLine Strategic Opportunity 6....     55501030   \n",
      "315      LGPS                                    LogProstyle Inc     53203010   \n",
      "\n",
      "            Industry  \n",
      "306               제약  \n",
      "307            소프트웨어  \n",
      "308           폐쇄형 펀드  \n",
      "309        상업용 REITs  \n",
      "310  부동산 임대, 개발 및 운영  \n",
      "311         투자 지주 회사  \n",
      "312        여가 및 오락시설  \n",
      "313                   \n",
      "314           폐쇄형 펀드  \n",
      "315            주택 건설  \n"
     ]
    },
    {
     "name": "stderr",
     "output_type": "stream",
     "text": [
      "\n"
     ]
    }
   ],
   "source": [
    "nyse = fdr.StockListing('NYSE')\n",
    "amex = fdr.StockListing('AMEX')\n",
    "print(nyse.tail(10))\n",
    "print(amex.tail(10))"
   ]
  },
  {
   "cell_type": "code",
   "execution_count": 7,
   "metadata": {},
   "outputs": [
    {
     "name": "stdout",
     "output_type": "stream",
     "text": [
      "NYSE 저장된 데이터 수: 2732\n",
      "NASDAQ 저장된 데이터 수: 3640\n",
      "AMEX 저장된 데이터 수: 316\n"
     ]
    }
   ],
   "source": [
    "import pandas as pd\n",
    "from sqlalchemy import create_engine\n",
    "import sqlite3\n",
    "\n",
    "# DB 경로 설정\n",
    "db_path = '/home/kds/k202410/Stock/app/db/stock.db'\n",
    "engine = create_engine(f'sqlite:///{db_path}')\n",
    "\n",
    "# NYSE 데이터 저장\n",
    "nyse.to_sql('nyse', con=engine, if_exists='replace', index=False)\n",
    "\n",
    "# # NASDAQ 데이터 저장\n",
    "# nasdaq.to_sql('nasdaq', con=engine, if_exists='replace', index=False)\n",
    "\n",
    "# AMEX 데이터 저장\n",
    "amex.to_sql('amex', con=engine, if_exists='replace', index=False)\n",
    "\n",
    "# 저장 확인\n",
    "with sqlite3.connect(db_path) as conn:\n",
    "    # NYSE 데이터 확인\n",
    "    nyse_count = pd.read_sql_query(\"SELECT COUNT(*) FROM nyse\", conn).iloc[0,0]\n",
    "    print(f\"NYSE 저장된 데이터 수: {nyse_count}\")\n",
    "    \n",
    "    # NASDAQ 데이터 확인\n",
    "    nasdaq_count = pd.read_sql_query(\"SELECT COUNT(*) FROM nasdaq\", conn).iloc[0,0]\n",
    "    print(f\"NASDAQ 저장된 데이터 수: {nasdaq_count}\")\n",
    "    \n",
    "    # AMEX 데이터 확인\n",
    "    amex_count = pd.read_sql_query(\"SELECT COUNT(*) FROM amex\", conn).iloc[0,0]\n",
    "    print(f\"AMEX 저장된 데이터 수: {amex_count}\")"
   ]
  },
  {
   "cell_type": "code",
   "execution_count": 9,
   "metadata": {},
   "outputs": [
    {
     "name": "stdout",
     "output_type": "stream",
     "text": [
      "                  Open        High         Low       Close    Volume  \\\n",
      "2024-01-16  142.000000  144.350006  141.449997  142.490005  22670500   \n",
      "2024-01-17  141.350006  141.839996  138.899994  141.470001  20968600   \n",
      "2024-01-18  142.050003  144.210007  141.990005  143.479996  25746400   \n",
      "2024-01-19  144.740005  146.449997  144.380005  146.380005  33300700   \n",
      "2024-01-22  147.100006  148.389999  145.839996  145.990005  32200400   \n",
      "...                ...         ...         ...         ...       ...   \n",
      "2025-01-13  190.070007  191.179993  187.360001  191.009995  21823700   \n",
      "2025-01-14  191.240005  191.979996  188.309998  189.660004  17174900   \n",
      "2025-01-15  193.089996  196.360001  191.860001  195.550003  21776000   \n",
      "2025-01-16  194.139999  195.479996  192.809998  192.910004  17815400   \n",
      "2025-01-17  196.529999  197.229996  193.750000  196.000000  27629800   \n",
      "\n",
      "             Adj Close  \n",
      "2024-01-16  141.975327  \n",
      "2024-01-17  140.959015  \n",
      "2024-01-18  142.961761  \n",
      "2024-01-19  145.851273  \n",
      "2024-01-22  145.462677  \n",
      "...                ...  \n",
      "2025-01-13  191.009995  \n",
      "2025-01-14  189.660004  \n",
      "2025-01-15  195.550003  \n",
      "2025-01-16  192.910004  \n",
      "2025-01-17  196.000000  \n",
      "\n",
      "[254 rows x 6 columns]\n"
     ]
    },
    {
     "ename": "TypeError",
     "evalue": "SnapDataReader() takes 1 positional argument but 2 were given",
     "output_type": "error",
     "traceback": [
      "\u001b[0;31m---------------------------------------------------------------------------\u001b[0m",
      "\u001b[0;31mTypeError\u001b[0m                                 Traceback (most recent call last)",
      "Cell \u001b[0;32mIn[9], line 4\u001b[0m\n\u001b[1;32m      2\u001b[0m googl \u001b[38;5;241m=\u001b[39m fdr\u001b[38;5;241m.\u001b[39mDataReader(\u001b[38;5;124m'\u001b[39m\u001b[38;5;124mGOOGL\u001b[39m\u001b[38;5;124m'\u001b[39m, \u001b[38;5;124m'\u001b[39m\u001b[38;5;124m2024-01-17\u001b[39m\u001b[38;5;124m'\u001b[39m)\n\u001b[1;32m      3\u001b[0m \u001b[38;5;28mprint\u001b[39m(googl)\n\u001b[0;32m----> 4\u001b[0m \u001b[43mfdr\u001b[49m\u001b[38;5;241;43m.\u001b[39;49m\u001b[43mSnapDataReader\u001b[49m\u001b[43m(\u001b[49m\u001b[38;5;124;43m'\u001b[39;49m\u001b[38;5;124;43mGOOGL\u001b[39;49m\u001b[38;5;124;43m'\u001b[39;49m\u001b[43m,\u001b[49m\u001b[43m \u001b[49m\u001b[38;5;124;43m'\u001b[39;49m\u001b[38;5;124;43m2024-01-17\u001b[39;49m\u001b[38;5;124;43m'\u001b[39;49m\u001b[43m)\u001b[49m\n",
      "\u001b[0;31mTypeError\u001b[0m: SnapDataReader() takes 1 positional argument but 2 were given"
     ]
    }
   ],
   "source": [
    "# googl 이 db의 nasdaq, amex, nyse 에 있는지 확인\n",
    "googl = pd.read_sql_query(\"SELECT * FROM nasdaq WHERE Symbol = 'GOOGL'\", conn)\n",
    "print(googl)"
   ]
  }
 ],
 "metadata": {
  "kernelspec": {
   "display_name": "venv202410",
   "language": "python",
   "name": "python3"
  },
  "language_info": {
   "codemirror_mode": {
    "name": "ipython",
    "version": 3
   },
   "file_extension": ".py",
   "mimetype": "text/x-python",
   "name": "python",
   "nbconvert_exporter": "python",
   "pygments_lexer": "ipython3",
   "version": "3.12.3"
  }
 },
 "nbformat": 4,
 "nbformat_minor": 2
}
